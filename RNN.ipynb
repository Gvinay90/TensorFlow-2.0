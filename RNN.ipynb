{
  "nbformat": 4,
  "nbformat_minor": 0,
  "metadata": {
    "colab": {
      "name": "RNN.ipynb",
      "provenance": [],
      "authorship_tag": "ABX9TyPCL5mcYOgYYzWlLp5gKEpV",
      "include_colab_link": true
    },
    "kernelspec": {
      "name": "python3",
      "display_name": "Python 3"
    }
  },
  "cells": [
    {
      "cell_type": "markdown",
      "metadata": {
        "id": "view-in-github",
        "colab_type": "text"
      },
      "source": [
        "<a href=\"https://colab.research.google.com/github/Gvinay90/TensorFlow-2.0/blob/master/RNN.ipynb\" target=\"_parent\"><img src=\"https://colab.research.google.com/assets/colab-badge.svg\" alt=\"Open In Colab\"/></a>"
      ]
    },
    {
      "cell_type": "code",
      "metadata": {
        "id": "NqA1erea9njq",
        "colab_type": "code",
        "colab": {}
      },
      "source": [
        "import tensorflow as tf\n",
        "import numpy as np\n",
        "from tensorflow.keras.datasets import imdb"
      ],
      "execution_count": 0,
      "outputs": []
    },
    {
      "cell_type": "markdown",
      "metadata": {
        "id": "jHPnvQqj-JML",
        "colab_type": "text"
      },
      "source": [
        "##Dataset Preprocessing"
      ]
    },
    {
      "cell_type": "markdown",
      "metadata": {
        "id": "9_FMYQaiDoq7",
        "colab_type": "text"
      },
      "source": [
        " We are checking IMDB reviews good or bad,so makeing the no of words in each review equal "
      ]
    },
    {
      "cell_type": "code",
      "metadata": {
        "id": "r4V4e38u9_Es",
        "colab_type": "code",
        "colab": {}
      },
      "source": [
        "number_of_words=20000\n",
        "max_len=100"
      ],
      "execution_count": 0,
      "outputs": []
    },
    {
      "cell_type": "code",
      "metadata": {
        "id": "peSAW2N6-VZq",
        "colab_type": "code",
        "colab": {}
      },
      "source": [
        "(X_train,y_train),(X_test,y_test)=imdb.load_data(num_words=number_of_words)"
      ],
      "execution_count": 0,
      "outputs": []
    },
    {
      "cell_type": "markdown",
      "metadata": {
        "id": "y8bO8EBh-nvU",
        "colab_type": "text"
      },
      "source": [
        "##Padding the sequence to same length\n",
        "\n"
      ]
    },
    {
      "cell_type": "markdown",
      "metadata": {
        "id": "pe03yZsfEP2k",
        "colab_type": "text"
      },
      "source": [
        "Padding the Sequence to max_len so each review have same length"
      ]
    },
    {
      "cell_type": "code",
      "metadata": {
        "id": "OetohpI6-jZV",
        "colab_type": "code",
        "colab": {}
      },
      "source": [
        "X_train=tf.keras.preprocessing.sequence.pad_sequences(X_train,maxlen=max_len)\n",
        "X_test=tf.keras.preprocessing.sequence.pad_sequences(X_test,maxlen=max_len)"
      ],
      "execution_count": 0,
      "outputs": []
    },
    {
      "cell_type": "markdown",
      "metadata": {
        "id": "9aHmyL9YBYE8",
        "colab_type": "text"
      },
      "source": [
        "##Setting Layers and Building neural Network"
      ]
    },
    {
      "cell_type": "code",
      "metadata": {
        "id": "NgeEeFCWBMee",
        "colab_type": "code",
        "outputId": "f0fe92a0-b26c-452b-a3e4-3ea937440930",
        "colab": {
          "base_uri": "https://localhost:8080/",
          "height": 34
        }
      },
      "source": [
        "vocab_size=number_of_words\n",
        "vocab_size"
      ],
      "execution_count": 0,
      "outputs": [
        {
          "output_type": "execute_result",
          "data": {
            "text/plain": [
              "20000"
            ]
          },
          "metadata": {
            "tags": []
          },
          "execution_count": 30
        }
      ]
    },
    {
      "cell_type": "code",
      "metadata": {
        "id": "7d-XRVixBiVA",
        "colab_type": "code",
        "colab": {}
      },
      "source": [
        "embed_size=128"
      ],
      "execution_count": 0,
      "outputs": []
    },
    {
      "cell_type": "markdown",
      "metadata": {
        "id": "dDWWUBofEkJZ",
        "colab_type": "text"
      },
      "source": [
        "## Defining The RNN model"
      ]
    },
    {
      "cell_type": "code",
      "metadata": {
        "id": "EsfbcZxMBm44",
        "colab_type": "code",
        "colab": {}
      },
      "source": [
        "model=tf.keras.Sequential()"
      ],
      "execution_count": 0,
      "outputs": []
    },
    {
      "cell_type": "markdown",
      "metadata": {
        "id": "o5pySwzLEtjX",
        "colab_type": "text"
      },
      "source": [
        "Adding Embending Layer"
      ]
    },
    {
      "cell_type": "code",
      "metadata": {
        "id": "wlRdNpscBx7i",
        "colab_type": "code",
        "colab": {}
      },
      "source": [
        "model.add(tf.keras.layers.Embedding(vocab_size,embed_size,input_shape=(X_train.shape[1],)))"
      ],
      "execution_count": 0,
      "outputs": []
    },
    {
      "cell_type": "markdown",
      "metadata": {
        "id": "-bLzrx8kFAdo",
        "colab_type": "text"
      },
      "source": [
        "### Adding LSTM layer"
      ]
    },
    {
      "cell_type": "markdown",
      "metadata": {
        "id": "pK7aTVJ5FEBj",
        "colab_type": "text"
      },
      "source": [
        "It is Long Short Temporary Memory Layer\n",
        "*  Activation= tanh\n",
        "*  no of units=128"
      ]
    },
    {
      "cell_type": "code",
      "metadata": {
        "id": "Orz1vp6aCBJV",
        "colab_type": "code",
        "colab": {}
      },
      "source": [
        "model.add(tf.keras.layers.LSTM(units=128,activation='tanh'))"
      ],
      "execution_count": 0,
      "outputs": []
    },
    {
      "cell_type": "markdown",
      "metadata": {
        "id": "K9sT7hijFkur",
        "colab_type": "text"
      },
      "source": [
        "It is not mandotary to add Dropout layer you can add droupout layer if your model is overfiting"
      ]
    },
    {
      "cell_type": "code",
      "metadata": {
        "id": "OP_FZnsSCNeH",
        "colab_type": "code",
        "colab": {}
      },
      "source": [
        "model.add(tf.keras.layers.Dropout(0.3))"
      ],
      "execution_count": 0,
      "outputs": []
    },
    {
      "cell_type": "markdown",
      "metadata": {
        "id": "KguTjXs9FyiX",
        "colab_type": "text"
      },
      "source": [
        "### Output Layer"
      ]
    },
    {
      "cell_type": "code",
      "metadata": {
        "id": "nmD9ThgLCiaW",
        "colab_type": "code",
        "colab": {}
      },
      "source": [
        "model.add(tf.keras.layers.Dense(units=1,activation=\"sigmoid\"))"
      ],
      "execution_count": 0,
      "outputs": []
    },
    {
      "cell_type": "markdown",
      "metadata": {
        "id": "EUYRZt_dF9tJ",
        "colab_type": "text"
      },
      "source": [
        "##Compile The Model"
      ]
    },
    {
      "cell_type": "code",
      "metadata": {
        "id": "iitggItLCr5F",
        "colab_type": "code",
        "colab": {}
      },
      "source": [
        "model.compile(optimizer=\"rmsprop\",loss=\"binary_crossentropy\",metrics=[\"accuracy\"])"
      ],
      "execution_count": 0,
      "outputs": []
    },
    {
      "cell_type": "code",
      "metadata": {
        "id": "qtJE_hchCt0f",
        "colab_type": "code",
        "outputId": "cd6877b1-28df-4988-bbe1-f52365d6974c",
        "colab": {
          "base_uri": "https://localhost:8080/",
          "height": 290
        }
      },
      "source": [
        "model.summary()"
      ],
      "execution_count": 0,
      "outputs": [
        {
          "output_type": "stream",
          "text": [
            "Model: \"sequential_1\"\n",
            "_________________________________________________________________\n",
            "Layer (type)                 Output Shape              Param #   \n",
            "=================================================================\n",
            "embedding_1 (Embedding)      (None, 100, 128)          2560000   \n",
            "_________________________________________________________________\n",
            "lstm_1 (LSTM)                (None, 128)               131584    \n",
            "_________________________________________________________________\n",
            "dropout_1 (Dropout)          (None, 128)               0         \n",
            "_________________________________________________________________\n",
            "dense_1 (Dense)              (None, 1)                 129       \n",
            "=================================================================\n",
            "Total params: 2,691,713\n",
            "Trainable params: 2,691,713\n",
            "Non-trainable params: 0\n",
            "_________________________________________________________________\n"
          ],
          "name": "stdout"
        }
      ]
    },
    {
      "cell_type": "markdown",
      "metadata": {
        "id": "xnxaQjAHGAlt",
        "colab_type": "text"
      },
      "source": [
        "## Train the Model"
      ]
    },
    {
      "cell_type": "code",
      "metadata": {
        "id": "ZfYz7Z-0DDKv",
        "colab_type": "code",
        "outputId": "5e59de0a-6ca6-49cd-8fcd-026ca7a7f577",
        "colab": {
          "base_uri": "https://localhost:8080/",
          "height": 136
        }
      },
      "source": [
        "model.fit(X_train,y_train,epochs=3,batch_size=128)"
      ],
      "execution_count": 0,
      "outputs": [
        {
          "output_type": "stream",
          "text": [
            "Epoch 1/3\n",
            "196/196 [==============================] - 75s 382ms/step - loss: 0.4549 - accuracy: 0.7942\n",
            "Epoch 2/3\n",
            "196/196 [==============================] - 75s 385ms/step - loss: 0.2871 - accuracy: 0.8858\n",
            "Epoch 3/3\n",
            "196/196 [==============================] - 80s 410ms/step - loss: 0.2279 - accuracy: 0.9139\n"
          ],
          "name": "stdout"
        },
        {
          "output_type": "execute_result",
          "data": {
            "text/plain": [
              "<tensorflow.python.keras.callbacks.History at 0x7f4dede7c400>"
            ]
          },
          "metadata": {
            "tags": []
          },
          "execution_count": 39
        }
      ]
    },
    {
      "cell_type": "code",
      "metadata": {
        "id": "syVfdyjIDMcP",
        "colab_type": "code",
        "outputId": "d23a4fdb-6b76-4a7d-c9ec-e840d176f1ab",
        "colab": {
          "base_uri": "https://localhost:8080/",
          "height": 34
        }
      },
      "source": [
        "test_loss,test_accuracy=model.evaluate(X_test,y_test)"
      ],
      "execution_count": 0,
      "outputs": [
        {
          "output_type": "stream",
          "text": [
            "782/782 [==============================] - 27s 34ms/step - loss: 0.3667 - accuracy: 0.8430\n"
          ],
          "name": "stdout"
        }
      ]
    }
  ]
}