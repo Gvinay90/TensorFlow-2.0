{
  "nbformat": 4,
  "nbformat_minor": 0,
  "metadata": {
    "colab": {
      "name": "Neural_Network.ipynb",
      "provenance": [],
      "toc_visible": true,
      "authorship_tag": "ABX9TyOKTcNu45JP3+YM3ZhN494i",
      "include_colab_link": true
    },
    "kernelspec": {
      "name": "python3",
      "display_name": "Python 3"
    },
    "accelerator": "GPU"
  },
  "cells": [
    {
      "cell_type": "markdown",
      "metadata": {
        "id": "view-in-github",
        "colab_type": "text"
      },
      "source": [
        "<a href=\"https://colab.research.google.com/github/Gvinay90/TensorFlow-2.0/blob/master/Artificial_Neural_Network.ipynb\" target=\"_parent\"><img src=\"https://colab.research.google.com/assets/colab-badge.svg\" alt=\"Open In Colab\"/></a>"
      ]
    },
    {
      "cell_type": "markdown",
      "metadata": {
        "id": "baKHCATLQ0S9",
        "colab_type": "text"
      },
      "source": [
        "\n",
        "<p align=\"center\">\n",
        "  <img src=\"https://storage.googleapis.com/kaggle-datasets-images/2243/3791/9384af51de8baa77f6320901f53bd26b/dataset-cover.png\" />\n",
        "  Image source: https://www.kaggle.com/\n",
        "</p>"
      ]
    },
    {
      "cell_type": "code",
      "metadata": {
        "id": "pChUvJu5YwzG",
        "colab_type": "code",
        "colab": {}
      },
      "source": [
        "#one's installed no need to install again\n",
        "#pip install tensorflow"
      ],
      "execution_count": 0,
      "outputs": []
    },
    {
      "cell_type": "markdown",
      "metadata": {
        "id": "WpSKgLR5RLYG",
        "colab_type": "text"
      },
      "source": [
        "##Importing Dependencies"
      ]
    },
    {
      "cell_type": "code",
      "metadata": {
        "id": "Bjjqiu0haJAy",
        "colab_type": "code",
        "colab": {}
      },
      "source": [
        "import numpy as np\n",
        "import tensorflow as tf\n",
        "import datetime\n",
        "from tensorflow.keras.datasets import fashion_mnist"
      ],
      "execution_count": 0,
      "outputs": []
    },
    {
      "cell_type": "code",
      "metadata": {
        "id": "0nLJrbEfaKLr",
        "colab_type": "code",
        "outputId": "b21be295-3dd2-4c3d-a727-4df0dcac6312",
        "colab": {
          "base_uri": "https://localhost:8080/",
          "height": 34
        }
      },
      "source": [
        "tf.__version__"
      ],
      "execution_count": 3,
      "outputs": [
        {
          "output_type": "execute_result",
          "data": {
            "text/plain": [
              "'2.2.0'"
            ]
          },
          "metadata": {
            "tags": []
          },
          "execution_count": 3
        }
      ]
    },
    {
      "cell_type": "markdown",
      "metadata": {
        "id": "kFqTJD0hRQL_",
        "colab_type": "text"
      },
      "source": [
        "##Dataset Processing"
      ]
    },
    {
      "cell_type": "code",
      "metadata": {
        "id": "lZfrHhP5qO71",
        "colab_type": "code",
        "outputId": "6567c109-3323-4655-fbc1-453020b905af",
        "colab": {
          "base_uri": "https://localhost:8080/",
          "height": 153
        }
      },
      "source": [
        "(X_train,y_train),(X_test,y_test)=fashion_mnist.load_data()"
      ],
      "execution_count": 4,
      "outputs": [
        {
          "output_type": "stream",
          "text": [
            "Downloading data from https://storage.googleapis.com/tensorflow/tf-keras-datasets/train-labels-idx1-ubyte.gz\n",
            "32768/29515 [=================================] - 0s 0us/step\n",
            "Downloading data from https://storage.googleapis.com/tensorflow/tf-keras-datasets/train-images-idx3-ubyte.gz\n",
            "26427392/26421880 [==============================] - 0s 0us/step\n",
            "Downloading data from https://storage.googleapis.com/tensorflow/tf-keras-datasets/t10k-labels-idx1-ubyte.gz\n",
            "8192/5148 [===============================================] - 0s 0us/step\n",
            "Downloading data from https://storage.googleapis.com/tensorflow/tf-keras-datasets/t10k-images-idx3-ubyte.gz\n",
            "4423680/4422102 [==============================] - 0s 0us/step\n"
          ],
          "name": "stdout"
        }
      ]
    },
    {
      "cell_type": "markdown",
      "metadata": {
        "id": "FhlolyqORjc5",
        "colab_type": "text"
      },
      "source": [
        "## Image normalization\n",
        "\n",
        "We devide each image in the training and testing dataset with the maxiumum number of pixels (255).\n",
        "\n",
        "In this way each pixel will be in the rainge [0, 1]. By normalizing imaes we are making sure that our model (ANN) trains faster."
      ]
    },
    {
      "cell_type": "code",
      "metadata": {
        "id": "989bnrzPWSum",
        "colab_type": "code",
        "colab": {}
      },
      "source": [
        "X_train =X_train /255.0\n",
        "X_test=X_test/255.0"
      ],
      "execution_count": 0,
      "outputs": []
    },
    {
      "cell_type": "markdown",
      "metadata": {
        "id": "xO9tLLzXR5Pg",
        "colab_type": "text"
      },
      "source": [
        "## Reshaping in the vector format"
      ]
    },
    {
      "cell_type": "code",
      "metadata": {
        "id": "ME5gz8-7WX84",
        "colab_type": "code",
        "colab": {}
      },
      "source": [
        "X_train=X_train.reshape(-1,28*28)"
      ],
      "execution_count": 0,
      "outputs": []
    },
    {
      "cell_type": "code",
      "metadata": {
        "id": "Iji8vWbmWq4s",
        "colab_type": "code",
        "outputId": "b64a328f-02cb-4c75-8c9e-e34f5e8d1a38",
        "colab": {
          "base_uri": "https://localhost:8080/",
          "height": 34
        }
      },
      "source": [
        "X_train.shape"
      ],
      "execution_count": 7,
      "outputs": [
        {
          "output_type": "execute_result",
          "data": {
            "text/plain": [
              "(60000, 784)"
            ]
          },
          "metadata": {
            "tags": []
          },
          "execution_count": 7
        }
      ]
    },
    {
      "cell_type": "code",
      "metadata": {
        "id": "zPLfMkF1WvX3",
        "colab_type": "code",
        "colab": {}
      },
      "source": [
        "X_test=X_test.reshape(-1,28*28)"
      ],
      "execution_count": 0,
      "outputs": []
    },
    {
      "cell_type": "code",
      "metadata": {
        "id": "lOULlqcPZIGJ",
        "colab_type": "code",
        "outputId": "09449fd4-0f4c-4a4e-fad2-de8f03364d1a",
        "colab": {
          "base_uri": "https://localhost:8080/",
          "height": 34
        }
      },
      "source": [
        "X_test.shape"
      ],
      "execution_count": 9,
      "outputs": [
        {
          "output_type": "execute_result",
          "data": {
            "text/plain": [
              "(10000, 784)"
            ]
          },
          "metadata": {
            "tags": []
          },
          "execution_count": 9
        }
      ]
    },
    {
      "cell_type": "markdown",
      "metadata": {
        "id": "s-nsdmeHSAeT",
        "colab_type": "text"
      },
      "source": [
        "## Building an Artificial Neural Network"
      ]
    },
    {
      "cell_type": "markdown",
      "metadata": {
        "id": "-gOxgIF0SMdN",
        "colab_type": "text"
      },
      "source": [
        "### Defining The Model"
      ]
    },
    {
      "cell_type": "code",
      "metadata": {
        "id": "R9X-YjBQZK5k",
        "colab_type": "code",
        "colab": {}
      },
      "source": [
        "model=tf.keras.models.Sequential()"
      ],
      "execution_count": 0,
      "outputs": []
    },
    {
      "cell_type": "markdown",
      "metadata": {
        "id": "zgqguRCaSQQ7",
        "colab_type": "text"
      },
      "source": [
        "### Adding the first layer\n",
        "Layer Parameters\n",
        "\n",
        "\n",
        "*   Numbers of units/neurons\n",
        "*   Activation funtion\n",
        "*   Input shape\n",
        "\n"
      ]
    },
    {
      "cell_type": "code",
      "metadata": {
        "id": "FrZlQtqmabDd",
        "colab_type": "code",
        "colab": {}
      },
      "source": [
        "model.add(tf.keras.layers.Dense(units=128,activation='relu',input_shape=(784, )))"
      ],
      "execution_count": 0,
      "outputs": []
    },
    {
      "cell_type": "markdown",
      "metadata": {
        "id": "dyXUQLjuS5p_",
        "colab_type": "text"
      },
      "source": [
        "### Adding Dropout Layer\n",
        "Dropout layer is the layer in which while traning few neurons will not be trained this will help to reduce overfitting of the model."
      ]
    },
    {
      "cell_type": "code",
      "metadata": {
        "id": "X8YU0uAZazP5",
        "colab_type": "code",
        "colab": {}
      },
      "source": [
        "model.add(tf.keras.layers.Dropout(0.2))"
      ],
      "execution_count": 0,
      "outputs": []
    },
    {
      "cell_type": "markdown",
      "metadata": {
        "id": "HuWYKA-2TWa9",
        "colab_type": "text"
      },
      "source": [
        "### Second Layer Output Layer\n",
        "Layers Parameter\n",
        "*  units==Number of classes as we have 10 classes as output\n",
        "*  activation function"
      ]
    },
    {
      "cell_type": "code",
      "metadata": {
        "id": "vRGvkUcYa5kQ",
        "colab_type": "code",
        "colab": {}
      },
      "source": [
        "model.add(tf.keras.layers.Dense(units=10,activation='softmax'))"
      ],
      "execution_count": 0,
      "outputs": []
    },
    {
      "cell_type": "markdown",
      "metadata": {
        "id": "TrVbY9ntTzA3",
        "colab_type": "text"
      },
      "source": [
        "### Compiling the model\n",
        "parameters\n",
        "*  optimizer\n",
        "*   loss function\n",
        "*   metrics"
      ]
    },
    {
      "cell_type": "code",
      "metadata": {
        "id": "LSjVUCT-bOur",
        "colab_type": "code",
        "colab": {}
      },
      "source": [
        "model.compile(optimizer='adam',loss='sparse_categorical_crossentropy',metrics=['sparse_categorical_accuracy'])"
      ],
      "execution_count": 0,
      "outputs": []
    },
    {
      "cell_type": "code",
      "metadata": {
        "id": "DTy5c8d4cp40",
        "colab_type": "code",
        "colab": {}
      },
      "source": [
        "model.summary()"
      ],
      "execution_count": 0,
      "outputs": []
    },
    {
      "cell_type": "markdown",
      "metadata": {
        "id": "k2l-bjIqUQmU",
        "colab_type": "text"
      },
      "source": [
        "## Training the model"
      ]
    },
    {
      "cell_type": "code",
      "metadata": {
        "id": "tUCbFN86csJm",
        "colab_type": "code",
        "colab": {}
      },
      "source": [
        "model.fit(X_train,y_train,epochs=6)"
      ],
      "execution_count": 0,
      "outputs": []
    },
    {
      "cell_type": "markdown",
      "metadata": {
        "id": "j50fVUpwUYsb",
        "colab_type": "text"
      },
      "source": [
        "## Evaluation and prediction of model"
      ]
    },
    {
      "cell_type": "code",
      "metadata": {
        "id": "-vu2Arb_dAmw",
        "colab_type": "code",
        "colab": {}
      },
      "source": [
        "test_loss,test_accuracy=model.evaluate(X_test,y_test)"
      ],
      "execution_count": 0,
      "outputs": []
    },
    {
      "cell_type": "code",
      "metadata": {
        "id": "yqTKOEmDeeJV",
        "colab_type": "code",
        "colab": {}
      },
      "source": [
        "print(\"Test accuracy= {}\".format(test_accuracy))"
      ],
      "execution_count": 0,
      "outputs": []
    },
    {
      "cell_type": "markdown",
      "metadata": {
        "id": "yTELwEc6Ufn4",
        "colab_type": "text"
      },
      "source": [
        "## Saving The model"
      ]
    },
    {
      "cell_type": "code",
      "metadata": {
        "id": "Yw_1D7yje0Ap",
        "colab_type": "code",
        "colab": {}
      },
      "source": [
        "model_json = model.to_json()\n",
        "with open(\"fashion_model.json\", \"w\") as json_file:\n",
        "    json_file.write(model_json)"
      ],
      "execution_count": 0,
      "outputs": []
    },
    {
      "cell_type": "code",
      "metadata": {
        "id": "vqXzAFA9fwAN",
        "colab_type": "code",
        "colab": {}
      },
      "source": [
        "model_json"
      ],
      "execution_count": 0,
      "outputs": []
    },
    {
      "cell_type": "code",
      "metadata": {
        "id": "CdRFIWjpgGoa",
        "colab_type": "code",
        "colab": {}
      },
      "source": [
        "model.save_weights(\"fashion_model.h5\")"
      ],
      "execution_count": 0,
      "outputs": []
    },
    {
      "cell_type": "code",
      "metadata": {
        "id": "B0_KTAArgoP5",
        "colab_type": "code",
        "colab": {}
      },
      "source": [
        ""
      ],
      "execution_count": 0,
      "outputs": []
    }
  ]
}